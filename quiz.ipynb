{
 "metadata": {
  "language_info": {
   "codemirror_mode": {
    "name": "ipython",
    "version": 3
   },
   "file_extension": ".py",
   "mimetype": "text/x-python",
   "name": "python",
   "nbconvert_exporter": "python",
   "pygments_lexer": "ipython3",
   "version": "3.8.6-candidate"
  },
  "orig_nbformat": 2,
  "kernelspec": {
   "name": "python3",
   "display_name": "Python 3.8.6 64-bit",
   "metadata": {
    "interpreter": {
     "hash": "c61731d8f7c4f1da77cbad515f8c2ebe6cb7e230b50f067f2e33022859eb5993"
    }
   }
  }
 },
 "nbformat": 4,
 "nbformat_minor": 2,
 "cells": [
  {
   "cell_type": "code",
   "execution_count": 2,
   "metadata": {},
   "outputs": [],
   "source": [
    "import numpy as np\n",
    "import pandas as pd\n",
    "import matplotlib.pyplot as plt"
   ]
  },
  {
   "cell_type": "code",
   "execution_count": 4,
   "metadata": {},
   "outputs": [
    {
     "output_type": "execute_result",
     "data": {
      "text/plain": [
       "         X1         X2            Y\n",
       "0  0.931719  50.942832  2596.040230\n",
       "1  0.796997  50.312938  2532.026902\n",
       "2  1.115603  50.156194  2516.888332\n",
       "3  1.064629  50.774814  2579.215190\n",
       "4  1.796804  50.055668  2508.798424"
      ],
      "text/html": "<div>\n<style scoped>\n    .dataframe tbody tr th:only-of-type {\n        vertical-align: middle;\n    }\n\n    .dataframe tbody tr th {\n        vertical-align: top;\n    }\n\n    .dataframe thead th {\n        text-align: right;\n    }\n</style>\n<table border=\"1\" class=\"dataframe\">\n  <thead>\n    <tr style=\"text-align: right;\">\n      <th></th>\n      <th>X1</th>\n      <th>X2</th>\n      <th>Y</th>\n    </tr>\n  </thead>\n  <tbody>\n    <tr>\n      <th>0</th>\n      <td>0.931719</td>\n      <td>50.942832</td>\n      <td>2596.040230</td>\n    </tr>\n    <tr>\n      <th>1</th>\n      <td>0.796997</td>\n      <td>50.312938</td>\n      <td>2532.026902</td>\n    </tr>\n    <tr>\n      <th>2</th>\n      <td>1.115603</td>\n      <td>50.156194</td>\n      <td>2516.888332</td>\n    </tr>\n    <tr>\n      <th>3</th>\n      <td>1.064629</td>\n      <td>50.774814</td>\n      <td>2579.215190</td>\n    </tr>\n    <tr>\n      <th>4</th>\n      <td>1.796804</td>\n      <td>50.055668</td>\n      <td>2508.798424</td>\n    </tr>\n  </tbody>\n</table>\n</div>"
     },
     "metadata": {},
     "execution_count": 4
    }
   ],
   "source": [
    "\n",
    "df = pd.read_csv('dat.csv')\n",
    "df.head()"
   ]
  },
  {
   "cell_type": "code",
   "execution_count": null,
   "metadata": {},
   "outputs": [],
   "source": []
  }
 ]
}